{
 "cells": [
  {
   "cell_type": "code",
   "execution_count": null,
   "metadata": {},
   "outputs": [],
   "source": [
    "from selenium import webdriver\n",
    "from webdriver_manager.chrome import ChromeDriverManager\n",
    "from selenium.webdriver.common.keys import Keys\n",
    "import random\n",
    "import time\n",
    "\n",
    "chrome=webdriver.Chrome(ChromeDriverManager().install())\n",
    "time.sleep(2)\n",
    "\n",
    "chrome.get(\"https://web.whatsapp.com\")\n",
    "time.sleep(7)\n",
    "\n",
    "search_box=chrome.find_element_by_class_name(\"_3FRCZ\")\n",
    "search_box.send_keys(\"Nikki Chotu\")\n",
    "search_box.send_keys(Keys.ENTER)\n",
    "\n",
    "#emoji=[\":-)\",\";-)\",\">_<\", \":-)\" ,\">_<\",\"^_^\"]\n",
    "emoji=[\":-(\",\":-(\",\";-(\",\":-<\",\":-(\"]\n",
    "for i in range(1,50):\n",
    "    message_box=chrome.find_element_by_xpath('//*[@id=\"main\"]/footer/div[1]/div[2]/div/div[2]')\n",
    "    message_box.send_keys(random.choice(emoji))\n",
    "    message_box.send_keys(Keys.ENTER)\n",
    "    \n",
    "message_box=chrome.find_element_by_xpath('//*[@id=\"main\"]/footer/div[1]/div[2]/div/div[2]')\n",
    "message_box.send_keys(\" how are u?. :-)\")\n",
    "message_box.send_keys(Keys.ENTER)    "
   ]
  },
  {
   "cell_type": "code",
   "execution_count": null,
   "metadata": {},
   "outputs": [],
   "source": []
  }
 ],
 "metadata": {
  "kernelspec": {
   "display_name": "Python 3",
   "language": "python",
   "name": "python3"
  },
  "language_info": {
   "codemirror_mode": {
    "name": "ipython",
    "version": 3
   },
   "file_extension": ".py",
   "mimetype": "text/x-python",
   "name": "python",
   "nbconvert_exporter": "python",
   "pygments_lexer": "ipython3",
   "version": "3.7.4"
  }
 },
 "nbformat": 4,
 "nbformat_minor": 2
}
